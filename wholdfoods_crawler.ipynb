{
 "cells": [
  {
   "cell_type": "code",
   "execution_count": 1,
   "metadata": {},
   "outputs": [],
   "source": [
    "import requests\n",
    "import bs4\n",
    "from selenium import webdriver\n",
    "from selenium.webdriver.common.keys import Keys\n",
    "from selenium.webdriver.common.action_chains import ActionChains\n",
    "import time"
   ]
  },
  {
   "cell_type": "code",
   "execution_count": 3,
   "metadata": {},
   "outputs": [],
   "source": [
    "def scroll_page(browser):\n",
    "    \"\"\"\n",
    "    Automatically control to scroll the webpage to the bottom\n",
    "    Input: \n",
    "        browser: web driver\n",
    "    Output: None\n",
    "    \"\"\"\n",
    "    \n",
    "    SCROLL_PAUSE_TIME = 2\n",
    "\n",
    "    # Get scroll height\n",
    "    last_height = browser.execute_script(\"return document.body.scrollHeight\")\n",
    "    while True:\n",
    "        # Scroll down to bottom\n",
    "        browser.execute_script(\"window.scrollTo(0, document.body.scrollHeight);\")\n",
    "        # Wait to load page\n",
    "        time.sleep(SCROLL_PAUSE_TIME)\n",
    "        # Calculate new scroll height and compare with last scroll height\n",
    "        new_height = browser.execute_script(\"return document.body.scrollHeight\")\n",
    "        if new_height == last_height:\n",
    "            break\n",
    "        last_height = new_height\n",
    "    return None "
   ]
  },
  {
   "cell_type": "code",
   "execution_count": 4,
   "metadata": {},
   "outputs": [],
   "source": [
    "def get_product_links(source):\n",
    "    \"\"\"\n",
    "    Retrive product links from a web source\n",
    "    Input:\n",
    "        webpage source\n",
    "    Output:\n",
    "        product links as list\n",
    "    \"\"\"\n",
    "    soup = bs4.BeautifulSoup(source)\n",
    "    domain = \"https://products.wholefoodsmarket.com\"\n",
    "    contents = soup.find_all(name=\"a\", class_=\"ProductCard-Root--3g5WI\")\n",
    "    links = [domain + content.get(\"href\") for content in contents]\n",
    "    return links"
   ]
  },
  {
   "cell_type": "code",
   "execution_count": null,
   "metadata": {
    "scrolled": true
   },
   "outputs": [],
   "source": [
    "product_links = []\n",
    "browser = webdriver.Chrome()\n",
    "init_url = \"https://products.wholefoodsmarket.com/search?sort=relevance\"\n",
    "browser.get(init_url)\n",
    "\n",
    "no_sub_categ = [\"floral\", \"cheese\", \"seafood\"]\n",
    "buttons = browser.find_elements_by_class_name(\"LandingPage-SeeAll--2PvpU\")\n",
    "button_nums = len(buttons)\n",
    "\n",
    "init_action = ActionChains(browser)\n",
    "for i in range(0, button_nums):\n",
    "    init_url = \"https://products.wholefoodsmarket.com/search?sort=relevance\"\n",
    "    browser.get(init_url)\n",
    "\n",
    "    buttons = browser.find_elements_by_class_name(\"LandingPage-SeeAll--2PvpU\")\n",
    "    button = buttons[i]\n",
    "    init_action.click(button).perform()\n",
    "\n",
    "    categ_url = browser.current_url\n",
    "    browser.get(categ_url)\n",
    "    print(categ_url)\n",
    "    print(categ_url.split(\"=\")[2])\n",
    "    if categ_url.split(\"=\")[2] not in no_sub_categ:\n",
    "        sub_buttons = browser.find_elements_by_class_name(\"Radio-Label--1a5oe\")\n",
    "        sub_action = ActionChains(browser)\n",
    "        for sub_button in sub_buttons[1:]:\n",
    "            sub_action.click(sub_button).perform()\n",
    "            scroll_page(browser)\n",
    "            source = browser.page_source\n",
    "            links = get_product_links(source)\n",
    "            print(\"Number of products\", len(links))\n",
    "            product_links.extend(links)\n",
    "            sub_action = ActionChains(browser)\n",
    "    else:\n",
    "        scroll_page(browser)\n",
    "        source = browser.page_source\n",
    "        links = get_product_links(source)\n",
    "        print(\"Number of products\", len(links))\n",
    "        product_links.extend(links)\n",
    "\n",
    "    back_action = ActionChains(browser)\n",
    "    back_button = browser.find_element_by_class_name(\"Radio-Label--1a5oe\")\n",
    "    back_action.click(back_button).perform()\n",
    "    print(browser.current_url)\n",
    "\n",
    "    init_action = ActionChains(browser)\n",
    "browser.close()"
   ]
  },
  {
   "cell_type": "code",
   "execution_count": null,
   "metadata": {},
   "outputs": [],
   "source": []
  },
  {
   "cell_type": "code",
   "execution_count": null,
   "metadata": {
    "scrolled": false
   },
   "outputs": [],
   "source": [
    "browser.close()"
   ]
  },
  {
   "cell_type": "code",
   "execution_count": null,
   "metadata": {},
   "outputs": [],
   "source": [
    "print(len(product_links))"
   ]
  },
  {
   "cell_type": "code",
   "execution_count": null,
   "metadata": {},
   "outputs": [],
   "source": [
    "# 查找重复项\n",
    "import collections\n",
    "print([item for item, count in collections.Counter(product_links).items() if count > 1])"
   ]
  },
  {
   "cell_type": "code",
   "execution_count": null,
   "metadata": {},
   "outputs": [],
   "source": [
    "print(product_links[545])"
   ]
  },
  {
   "cell_type": "markdown",
   "metadata": {},
   "source": [
    "Find you may also like"
   ]
  },
  {
   "cell_type": "code",
   "execution_count": null,
   "metadata": {},
   "outputs": [],
   "source": [
    "starting_link = product_links[545]\n",
    "r = requests.get(starting_link)"
   ]
  },
  {
   "cell_type": "code",
   "execution_count": null,
   "metadata": {},
   "outputs": [],
   "source": [
    "def get_what_you_may_like(starting_link):\n",
    "    browser = webdriver.Chrome()\n",
    "    browser.get(starting_link)\n",
    "    source = browser.page_source\n",
    "    browser.close()\n",
    "    soup = bs4.BeautifulSoup(source)\n",
    "    soups = soup.find_all(\"a\", class_=\"ProductCard-Root--3g5WI\")\n",
    "    domain = \"https://products.wholefoodsmarket.com\"\n",
    "    links = [domain + soup.get(\"href\") for soup in soups]\n",
    "    return links"
   ]
  },
  {
   "cell_type": "code",
   "execution_count": null,
   "metadata": {},
   "outputs": [],
   "source": []
  },
  {
   "cell_type": "code",
   "execution_count": null,
   "metadata": {},
   "outputs": [],
   "source": [
    "starting_link = \"https://products.wholefoodsmarket.com/product/califia-farms-super-berry-probiotic-yogurt-drink-6e4114\"\n",
    "browser = webdriver.Chrome()\n",
    "browser.get(starting_link)\n",
    "source = browser.page_source\n",
    "soup = bs4.BeautifulSoup(source)\n",
    "soups = soup.find_all(\"a\", class_=\"ProductCard-Root--3g5WI\")"
   ]
  },
  {
   "cell_type": "code",
   "execution_count": null,
   "metadata": {},
   "outputs": [],
   "source": [
    "for soup in soups:\n",
    "    print(soup.get(\"href\"))"
   ]
  }
 ],
 "metadata": {
  "kernelspec": {
   "display_name": "Python 3",
   "language": "python",
   "name": "python3"
  },
  "language_info": {
   "codemirror_mode": {
    "name": "ipython",
    "version": 3
   },
   "file_extension": ".py",
   "mimetype": "text/x-python",
   "name": "python",
   "nbconvert_exporter": "python",
   "pygments_lexer": "ipython3",
   "version": "3.7.4"
  }
 },
 "nbformat": 4,
 "nbformat_minor": 2
}
