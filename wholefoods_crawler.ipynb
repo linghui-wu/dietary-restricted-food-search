{
 "cells": [
  {
   "cell_type": "code",
   "execution_count": 1,
   "metadata": {},
   "outputs": [],
   "source": [
    "import requests\n",
    "import bs4\n",
    "from selenium import webdriver\n",
    "from selenium.webdriver.common.keys import Keys\n",
    "from selenium.webdriver.common.action_chains import ActionChains\n",
    "import time"
   ]
  },
  {
   "cell_type": "code",
   "execution_count": 2,
   "metadata": {},
   "outputs": [],
   "source": [
    "def scroll_page(browser):\n",
    "    \"\"\"\n",
    "    Automatically control to scroll the webpage to the bottom\n",
    "    Input: \n",
    "        browser: web driver\n",
    "    Output: None\n",
    "    \"\"\"\n",
    "    \n",
    "    SCROLL_PAUSE_TIME = 1\n",
    "\n",
    "    # Get scroll height\n",
    "    last_height = browser.execute_script(\"return document.body.scrollHeight\")\n",
    "    while True:\n",
    "        # Scroll down to bottom\n",
    "        browser.execute_script(\"window.scrollTo(0, document.body.scrollHeight);\")\n",
    "        # Wait to load page\n",
    "        time.sleep(SCROLL_PAUSE_TIME)\n",
    "        # Calculate new scroll height and compare with last scroll height\n",
    "        new_height = browser.execute_script(\"return document.body.scrollHeight\")\n",
    "        if new_height == last_height:\n",
    "            break\n",
    "        last_height = new_height\n",
    "    return None "
   ]
  },
  {
   "cell_type": "code",
   "execution_count": 4,
   "metadata": {},
   "outputs": [],
   "source": [
    "def get_product_links(source):\n",
    "    \"\"\"\n",
    "    Retrive product links from a web source\n",
    "    Input:\n",
    "        webpage source\n",
    "    Output:\n",
    "        product links as list\n",
    "    \"\"\"\n",
    "    soup = bs4.BeautifulSoup(source)\n",
    "    domain = \"https://products.wholefoodsmarket.com\"\n",
    "    contents = soup.find_all(name=\"a\", class_=\"ProductCard-Root--3g5WI\")\n",
    "    links = [domain + content.get(\"href\") for content in contents]\n",
    "    return links"
   ]
  },
  {
   "cell_type": "code",
   "execution_count": 11,
   "metadata": {
    "scrolled": true
   },
   "outputs": [
    {
     "name": "stdout",
     "output_type": "stream",
     "text": [
      "https://products.wholefoodsmarket.com/search?sort=relevance&category=produce\n",
      "produce\n",
      "Number of products 95\n",
      "Number of products 14\n",
      "Number of products 198\n",
      "https://products.wholefoodsmarket.com/search?sort=relevance&category=dairy-eggs\n",
      "dairy-eggs\n",
      "Number of products 52\n",
      "Number of products 200\n",
      "Number of products 42\n",
      "Number of products 134\n",
      "Number of products 200\n",
      "https://products.wholefoodsmarket.com/search?sort=relevance&category=floral\n",
      "floral\n",
      "Number of products 24\n",
      "https://products.wholefoodsmarket.com/search?sort=relevance&category=breakfast\n",
      "breakfast\n",
      "Number of products 157\n",
      "Number of products 84\n",
      "https://products.wholefoodsmarket.com/search?sort=relevance&category=cheese\n",
      "cheese\n",
      "Number of products 200\n",
      "https://products.wholefoodsmarket.com/search?sort=relevance&category=frozen-foods\n",
      "frozen-foods\n",
      "Number of products 58\n",
      "Number of products 200\n",
      "Number of products 103\n",
      "Number of products 67\n",
      "Number of products 200\n",
      "https://products.wholefoodsmarket.com/search?sort=relevance&category=beverages\n",
      "beverages\n",
      "Number of products 200\n",
      "Number of products 200\n",
      "Number of products 107\n",
      "Number of products 90\n",
      "Number of products 92\n",
      "Number of products 92\n",
      "https://products.wholefoodsmarket.com/search?sort=relevance&category=snacks-chips-salsas-dips\n",
      "snacks-chips-salsas-dips\n",
      "Number of products 200\n",
      "Number of products 200\n",
      "Number of products 183\n",
      "Number of products 195\n",
      "Number of products 57\n",
      "Number of products 57\n",
      "https://products.wholefoodsmarket.com/search?sort=relevance&category=pantry-essentials\n",
      "pantry-essentials\n",
      "Number of products 200\n",
      "Number of products 200\n",
      "Number of products 199\n",
      "Number of products 188\n",
      "Number of products 200\n",
      "Number of products 200\n",
      "https://products.wholefoodsmarket.com/search?sort=relevance&category=breads-rolls-bakery\n",
      "breads-rolls-bakery\n",
      "Number of products 169\n",
      "Number of products 23\n",
      "Number of products 83\n",
      "Number of products 67\n",
      "Number of products 72\n",
      "https://products.wholefoodsmarket.com/search?sort=relevance&category=beef-poultry-pork\n",
      "beef-poultry-pork\n",
      "Number of products 91\n",
      "Number of products 58\n",
      "Number of products 91\n",
      "Number of products 32\n",
      "Number of products 67\n",
      "Number of products 67\n",
      "https://products.wholefoodsmarket.com/search?sort=relevance&category=seafood\n",
      "seafood\n",
      "Number of products 88\n",
      "https://products.wholefoodsmarket.com/search?sort=relevance&category=prepared-foods\n",
      "prepared-foods\n",
      "Number of products 72\n",
      "Number of products 23\n",
      "https://products.wholefoodsmarket.com/search?sort=relevance&category=wine-beer-spirits\n",
      "wine-beer-spirits\n",
      "Number of products 200\n",
      "Number of products 121\n",
      "Number of products 200\n"
     ]
    }
   ],
   "source": [
    "product_links = set()\n",
    "browser = webdriver.Chrome()\n",
    "init_url = \"https://products.wholefoodsmarket.com/search?sort=relevance\"\n",
    "browser.get(init_url)\n",
    "\n",
    "no_sub_categ = [\"floral\", \"cheese\", \"seafood\"]\n",
    "buttons = browser.find_elements_by_class_name(\"LandingPage-SeeAll--2PvpU\")\n",
    "button_nums = len(buttons)\n",
    "\n",
    "init_action = ActionChains(browser)\n",
    "for i in range(0, button_nums):\n",
    "    init_url = \"https://products.wholefoodsmarket.com/search?sort=relevance\"\n",
    "    browser.get(init_url)\n",
    "    time.sleep(2)\n",
    "    buttons = browser.find_elements_by_class_name(\"LandingPage-SeeAll--2PvpU\")\n",
    "    button = buttons[i]\n",
    "    init_action.click(button).perform()\n",
    "\n",
    "    categ_url = browser.current_url\n",
    "    browser.get(categ_url)\n",
    "    print(categ_url)\n",
    "    print(categ_url.split(\"=\")[2])\n",
    "    if categ_url.split(\"=\")[2] not in no_sub_categ:\n",
    "        sub_buttons = browser.find_elements_by_class_name(\"Radio-Label--1a5oe\")\n",
    "        sub_action = ActionChains(browser)\n",
    "        for sub_button in sub_buttons[1:]:\n",
    "            sub_action.click(sub_button).perform()\n",
    "            scroll_page(browser)\n",
    "            source = browser.page_source\n",
    "            links = get_product_links(source)\n",
    "            print(\"Number of products\", len(links))\n",
    "            product_links.update(links)\n",
    "            sub_action = ActionChains(browser)\n",
    "    else:\n",
    "        scroll_page(browser)\n",
    "        source = browser.page_source\n",
    "        links = get_product_links(source)\n",
    "        print(\"Number of products\", len(links))\n",
    "        product_links.update(links)\n",
    "\n",
    "    back_action = ActionChains(browser)\n",
    "    back_button = browser.find_element_by_class_name(\"Radio-Label--1a5oe\")\n",
    "    back_action.click(back_button).perform()\n",
    "    init_action = ActionChains(browser)\n",
    "browser.close()"
   ]
  },
  {
   "cell_type": "code",
   "execution_count": 16,
   "metadata": {},
   "outputs": [
    {
     "name": "stdout",
     "output_type": "stream",
     "text": [
      "6412\n"
     ]
    }
   ],
   "source": [
    "print(len(product_links))"
   ]
  },
  {
   "cell_type": "code",
   "execution_count": 17,
   "metadata": {},
   "outputs": [
    {
     "name": "stdout",
     "output_type": "stream",
     "text": [
      "5760\n"
     ]
    }
   ],
   "source": [
    "print(len(set(product_links)))"
   ]
  },
  {
   "cell_type": "code",
   "execution_count": 14,
   "metadata": {
    "collapsed": true
   },
   "outputs": [
    {
     "name": "stdout",
     "output_type": "stream",
     "text": [
      "['https://products.wholefoodsmarket.com/product/tomatoes-on-the-vine-0949fc', 'https://products.wholefoodsmarket.com/product/organic-tomatoes-on-the-vine-f63de5', 'https://products.wholefoodsmarket.com/product/sunset-wild-wonders-gourmet-medley-tomatoes-12-oz-106789', 'https://products.wholefoodsmarket.com/product/plantain-fc6ba3', 'https://products.wholefoodsmarket.com/product/whole-foods-market-whole-trade-organic-red-cherry-tomatoes-00a35b', 'https://products.wholefoodsmarket.com/product/tomatoes-on-the-vine-094d4a', 'https://products.wholefoodsmarket.com/product/365-everyday-value-organic-broccoli-florets-4373b5', 'https://products.wholefoodsmarket.com/product/earth-balance-organic-whipped-buttery-spread-f7a020', 'https://products.wholefoodsmarket.com/product/miyokos-creamery-organic-european-style-cultured-vegan-butter-ea06f3', 'https://products.wholefoodsmarket.com/product/earth-balance-vegan-buttery-sticks-0c6091', 'https://products.wholefoodsmarket.com/product/violife-cheddar-style-slices-adb698', 'https://products.wholefoodsmarket.com/product/forager-project-organic-unsweetened-plain-dairy-free-yogurt-24-oz-b8350c', 'https://products.wholefoodsmarket.com/product/so-delicious-dairy-free-unsweetened-vanilla-coconutmilk-0b40f4', 'https://products.wholefoodsmarket.com/product/kite-hill-unsweetened-plain-almond-yogurt-9833e2', 'https://products.wholefoodsmarket.com/product/nutpods-french-van-unsweet-dairy-free-creamer-a85f7b', 'https://products.wholefoodsmarket.com/product/so-delicious-dairy-free-vanilla-coconutmilk-yogurt-alternative-0be136', 'https://products.wholefoodsmarket.com/product/violife-just-like-mozzarella-shreds-27d6f8', 'https://products.wholefoodsmarket.com/product/icelandic-provisions-coconut-yogurt-9cb5b5', 'https://products.wholefoodsmarket.com/product/so-delicious-dairy-free-coco-whip-coconut-whipped-topping-664824', 'https://products.wholefoodsmarket.com/product/follow-your-heart-original-vegenaise-724b0d', 'https://products.wholefoodsmarket.com/product/so-delicious-cheddar-monterey-jack-shreds-70b376', 'https://products.wholefoodsmarket.com/product/tofutti-dairy-free-sour-cream-ce7ae5', 'https://products.wholefoodsmarket.com/product/kite-hill-plain-unsweetened-almond-milk-greek-yogurt-7c9d26', 'https://products.wholefoodsmarket.com/product/violife-just-like-feta-block-27d330', 'https://products.wholefoodsmarket.com/product/so-delicious-dairy-free-vanilla-coconut-milk-yogurt-alternative-0be318', 'https://products.wholefoodsmarket.com/product/nutpods-original-unsweetened-dairy-free-creamer-770457', 'https://products.wholefoodsmarket.com/product/tree-line-tree-line-herb-garlic-flavor-french-style-treenut-cheese-d22893', 'https://products.wholefoodsmarket.com/product/good-karma-foods-unsweetened-vanilla-flaxmilk-plus-protein-d35bdb', 'https://products.wholefoodsmarket.com/product/bio-k-plus-blueberry-fermented-rice-probiotic-6-pk-c478b3', 'https://products.wholefoodsmarket.com/product/kite-hill-everything-cream-cheese-style-spread-a5f1ad', 'https://products.wholefoodsmarket.com/product/koia-chocolate-brownie-keto-beverage-97a82b', 'https://products.wholefoodsmarket.com/product/so-delicious-mozzarella-style-shreds-a150e8', 'https://products.wholefoodsmarket.com/product/kite-hill-vanilla-greek-style-almond-milk-yogurt-610b14', 'https://products.wholefoodsmarket.com/product/kite-hill-artisan-almond-milk-vanilla-yogurt-9ef34c', 'https://products.wholefoodsmarket.com/product/treeline-treeline-scallion-flavor-treenut-cheese-d22680', 'https://products.wholefoodsmarket.com/product/bio-k-plus-blueberry-fermented-rice-probiotic-12-pk-c47757', 'https://products.wholefoodsmarket.com/product/so-delicious-dairy-free-dairy-free-blueberry-coconutmilk-yogurt-alternative-ce806a', 'https://products.wholefoodsmarket.com/product/kite-hill-artisan-almond-milk-strawberry-yogurt-c13f09', 'https://products.wholefoodsmarket.com/product/forager-project-organic-plain-unsweetened-cashew-milk-b3cf9e', 'https://products.wholefoodsmarket.com/product/kite-hill-jalapeno-cream-cheese-style-spread-295eb4', 'https://products.wholefoodsmarket.com/product/forager-project-organic-strawberry-dairy-free-yogurt-f55dce', 'https://products.wholefoodsmarket.com/product/forager-project-organic-strawberry-cultured-probiotic-cashewgurt-43d97b', 'https://products.wholefoodsmarket.com/product/forager-project-unsweetened-plain-cultured-probiotic-cashewgurt-0b54ec', 'https://products.wholefoodsmarket.com/product/koia-cake-batter-keto-beverage-aa8adb', 'https://products.wholefoodsmarket.com/product/so-delicious-cheddar-style-shreds-6e5336', 'https://products.wholefoodsmarket.com/product/so-delicious-dairy-free-dairy-free-raspberry-yogurt-alternative-ce8947', 'https://products.wholefoodsmarket.com/product/lifeway-organic-creamy-orange-probug-4pk-5d1c3e', 'https://products.wholefoodsmarket.com/product/so-delicious-dairy-free-so-delicious-dairy-free-strawberry-banana-coconutmilk-yogurt-alternative-c9bfd0', 'https://products.wholefoodsmarket.com/product/gts-kombucha-living-coconut-yogurt-f62be4', 'https://products.wholefoodsmarket.com/product/koia-cinnamon-horchata-protein-beverage-99eb6e', 'https://products.wholefoodsmarket.com/product/koia-chocolate-banana-plant-protein-drink-9728db', 'https://products.wholefoodsmarket.com/product/so-delicious-organic-unsweetened-vanilla-coconut-milk-yogurt-6ebc84', 'https://products.wholefoodsmarket.com/product/lavva-original-plant-based-yogurt-76a072', 'https://products.wholefoodsmarket.com/product/forager-project-organic-blueberry-cashewgurt-a6e7e8', 'https://products.wholefoodsmarket.com/product/miyokos-creamery-organic-double-cream-garlic-herb-nut-cheese-5e1cee', 'https://products.wholefoodsmarket.com/product/365-everyday-value-coconut-cream-94b6d9', 'https://products.wholefoodsmarket.com/product/califia-farms-strawberry-probiotic-yogurt-drink-6f3527', 'https://products.wholefoodsmarket.com/product/bio-k-plus-mango-fermented-soy-probiotic-12-pk-dda1fc', 'https://products.wholefoodsmarket.com/product/lavva-strawberry-plant-based-yogurt-8faf21', 'https://products.wholefoodsmarket.com/product/gts-kombucha-vanilla-cocoyo-34d7ad', 'https://products.wholefoodsmarket.com/product/koia-carmel-cr-me-keto-beverage-abeaaf', 'https://products.wholefoodsmarket.com/product/califia-farms-coconut-milk-dbeeef', 'https://products.wholefoodsmarket.com/product/lavva-plant-based-vanilla-yogurt-748715', 'https://products.wholefoodsmarket.com/product/miyokos-creamery-organic-sensational-scallion-cashew-cream-cheese-d5723e', 'https://products.wholefoodsmarket.com/product/lisanatti-foods-mozzarella-style-almond-cheese-dcaedd', 'https://products.wholefoodsmarket.com/product/goodbelly-goodbelly-strawberry-plusshot-probiotic-juice-drink-4-pk-d69ccc', 'https://products.wholefoodsmarket.com/product/gts-kombucha-pure-living-coconut-yogurt-206254', 'https://products.wholefoodsmarket.com/product/so-delicious-triple-berry-oatmilk-yogurt-744c1a', 'https://products.wholefoodsmarket.com/product/kite-hill-strawberry-banana-yogurt-tubes-610f18', 'https://products.wholefoodsmarket.com/product/365-everyday-value-365-everyday-value-organic-sweetened-condensed-milk-346916', 'https://products.wholefoodsmarket.com/product/lifeway-organic-lowfat-plain-kefir-661abb', 'https://products.wholefoodsmarket.com/product/365-everyday-value-plain-whole-milk-kefir-7ca4b3', 'https://products.wholefoodsmarket.com/product/green-valley-organics-green-valley-organics-lactose-free-whole-milk-kefir-af929b', 'https://products.wholefoodsmarket.com/product/365-everyday-value-strawberry-whole-milk-kefir-8fb1d6', 'https://products.wholefoodsmarket.com/product/lifeway-lowfat-blueberry-kefir-bb3c4d', 'https://products.wholefoodsmarket.com/product/365-everyday-value-raspberry-whole-milk-kefir-804192', 'https://products.wholefoodsmarket.com/product/365-everyday-value-blueberry-whole-milk-kefir-a67a8a', 'https://products.wholefoodsmarket.com/product/lifeway-organic-vanilla-bio-kefir-72bde8', 'https://products.wholefoodsmarket.com/product/lifeway-organic-pomegranate-blueberrybio-kefir-6a5710', 'https://products.wholefoodsmarket.com/product/applegate-naturals-natural-chicken-sage-breakfast-sausage-c83012', 'https://products.wholefoodsmarket.com/product/applegate-naturals-natural-chicken-maple-breakfast-sausage-patties-c0ac9c', 'https://products.wholefoodsmarket.com/product/applegate-organics-organic-chicken-apple-breakfast-sausage-e68e43', 'https://products.wholefoodsmarket.com/product/evol-foods-egg-green-chile-burrito-d0ca71', 'https://products.wholefoodsmarket.com/product/sweet-earth-natural-foods-protein-lovers-functional-breakfast-burrito-fd8e4d', 'https://products.wholefoodsmarket.com/product/sweet-earth-natural-foods-big-sur-breakfast-burrito-c32c00', 'https://products.wholefoodsmarket.com/product/amys-kitchen-breakfast-scramble-7c0cb7', 'https://products.wholefoodsmarket.com/product/hilarys-eat-well-apple-maple-veggie-breakfast-sausage-cd26bc', 'https://products.wholefoodsmarket.com/product/sweet-earth-natural-foods-baja-breakfast-burrito-bc38e5', 'https://products.wholefoodsmarket.com/product/amys-kitchen-breakfast-scramble-wrap-c57348', 'https://products.wholefoodsmarket.com/product/365-everyday-value-wild-caught-sockeye-salmon-fillets-10e12e', 'https://products.wholefoodsmarket.com/product/365-everyday-value-organic-riced-cauliflower-f3e582', 'https://products.wholefoodsmarket.com/product/daiya-foods-cheeze-lovers-gluten-free-pizza-d9a72f', 'https://products.wholefoodsmarket.com/product/amys-kitchen-vegan-margherita-pizza-0c5eb1', 'https://products.wholefoodsmarket.com/product/caulipower-pizza-veggie-64a0a0', 'https://products.wholefoodsmarket.com/product/so-delicious-dairy-free-so-delicious-dairy-free-dipped-vanilla-coconutmilk-non-dairy-frozen-dessert-8af78f', 'https://products.wholefoodsmarket.com/product/american-flatbread-american-flatbread-vegan-harvest-flatbread-dcefde', 'https://products.wholefoodsmarket.com/product/365-everyday-value-organic-cheese-tortellini-b9dfb5', 'https://products.wholefoodsmarket.com/product/brazi-bites-original-brazilian-cheese-bread-197352', 'https://products.wholefoodsmarket.com/product/field-roast-fruffalo-wings-a9422a', 'https://products.wholefoodsmarket.com/product/365-everyday-value-organic-spinach-ricotta-ravioli-bddeb6', 'https://products.wholefoodsmarket.com/product/annies-homegrown-mini-three-cheese-pizza-bagels-df5853', 'https://products.wholefoodsmarket.com/product/annies-homegrown-mini-uncured-pepperoni-pizza-bagels-df576d', 'https://products.wholefoodsmarket.com/product/so-delicious-dairy-free-cookies-n-cream-almondmilk-non-dairy-frozen-dessert-1b1990', 'https://products.wholefoodsmarket.com/product/daiya-foods-mushroom-roasted-garlic-pizza-fc3fc1', 'https://products.wholefoodsmarket.com/product/gusto-sliced-calabrese-salami-snack-pack-68ba03', 'https://products.wholefoodsmarket.com/product/brazi-bites-brazi-bites-garlic-asiago-brazilian-cheese-bread-d53797', 'https://products.wholefoodsmarket.com/product/amys-kitchen-spinach-pizza-snacks-055ad9', 'https://products.wholefoodsmarket.com/product/daiya-foods-daiya-foods-key-lime-cheezecake-889c0b', 'https://products.wholefoodsmarket.com/product/blendtopia-energy-superfood-smoothie-blend-e4cf2d', 'https://products.wholefoodsmarket.com/product/blendtopia-smoothie-detox-superfood-nat-67ce1d', 'https://products.wholefoodsmarket.com/product/smart-harvest-organic-sweet-greens-blend-fruit-smoothie-517261', 'https://products.wholefoodsmarket.com/product/smart-harvest-organic-cherry-berry-fusion-fruit-smoothie-6b7c79', 'https://products.wholefoodsmarket.com/product/wholly-wholesome-wholly-wholesome-gluten-free-pie-shells-d8fa90', 'https://products.wholefoodsmarket.com/product/wholly-wholesome-wholly-wholesome-organic-traditional-9-pie-dough-2-pk-d8fc86', 'https://products.wholefoodsmarket.com/product/wholly-wholesome-wholly-wholesome-organic-whole-wheat-9-pie-shell-a08398', 'https://products.wholefoodsmarket.com/product/aussie-bakery-puff-pastry-6c67d9', 'https://products.wholefoodsmarket.com/product/rebbl-organic-cold-brew-coffee-protein-elixir-061939', 'https://products.wholefoodsmarket.com/product/rebbl-organic-fair-trade-maca-cold-brew-087760', 'https://products.wholefoodsmarket.com/product/urban-remedy-java-shake-f56f6b', 'https://products.wholefoodsmarket.com/product/gts-organic-tantric-turmeric-kombucha-71f1b6', 'https://products.wholefoodsmarket.com/product/mamma-chia-blackberry-hibiscus-chia-vitality-beverage-7918ef', 'https://products.wholefoodsmarket.com/product/urban-remedy-chocolate-banana-972e2a', 'https://products.wholefoodsmarket.com/product/rebbl-organic-dark-chocolate-protein-elixir-ab4308', 'https://products.wholefoodsmarket.com/product/koia-cocoa-bean-plant-powered-protein-drink-9bc7e7', 'https://products.wholefoodsmarket.com/product/rebbl-organic-reishi-chocolate-elixir-422172', 'https://products.wholefoodsmarket.com/product/koia-vanilla-bean-protein-beverage-0bdf54', 'https://products.wholefoodsmarket.com/product/hiball-energy-lemon-lime-sparkling-energy-water-b96b3a', 'https://products.wholefoodsmarket.com/product/hiball-energy-peach-sparkling-energy-water-793672', 'https://products.wholefoodsmarket.com/product/rebbl-organic-turmeric-golden-milk-elixir-f71613', 'https://products.wholefoodsmarket.com/product/vive-organic-organic-spicy-immunity-boost-supplement-shot-f4e0a2', 'https://products.wholefoodsmarket.com/product/rebbl-rebbl-maca-mocha-with-coconut-milk-c2b25a', 'https://products.wholefoodsmarket.com/product/lifeaid-fit-aid-recovery-blend-8ce90e', 'https://products.wholefoodsmarket.com/product/odwalla-chocolate-protein-shake-ca34fd', 'https://products.wholefoodsmarket.com/product/hiball-energy-organic-fair-trade-blood-orange-energy-drink-5f2116', 'https://products.wholefoodsmarket.com/product/sambazon-organic-original-acai-berry-energy-drink-b264fa', 'https://products.wholefoodsmarket.com/product/vive-organic-immunity-boost-with-elderberry-d9f0a0', 'https://products.wholefoodsmarket.com/product/hiball-energy-black-cherry-organic-energy-drink-52c172', 'https://products.wholefoodsmarket.com/product/evolve-classic-chocolate-protein-shake-4-pk-6755c2', 'https://products.wholefoodsmarket.com/product/vitamin-water-vitamin-water-zero-squeezed-lemonade-d5526f', 'https://products.wholefoodsmarket.com/product/rebbl-vanilla-spice-protein-drink-34cf03', 'https://products.wholefoodsmarket.com/product/owyn-dark-chocolate-plant-based-protein-shake-a21310', 'https://products.wholefoodsmarket.com/product/sambazon-organic-low-calorie-acai-berry-pomegranate-energy-drink-afde29', 'https://products.wholefoodsmarket.com/product/guayaki-guayaki-classic-gold-sparkling-yerba-mate-b01d0f', 'https://products.wholefoodsmarket.com/product/365-everyday-value-liquid-energy-pomegranate-2-fl-oz-bb94c7', 'https://products.wholefoodsmarket.com/product/rebbl-organic-hazelnut-cacao-elixir-f12336', 'https://products.wholefoodsmarket.com/product/koia-cold-brew-coffee-ccaddd', 'https://products.wholefoodsmarket.com/product/guru-guru-organic-energy-931315', 'https://products.wholefoodsmarket.com/product/hiball-energy-hiball-energy-organic-ruby-red-energy-drink-949134', 'https://products.wholefoodsmarket.com/product/vitamin-water-rise-orange-vitamin-water-c38438', 'https://products.wholefoodsmarket.com/product/rebbl-banana-nut-protein-elixir-cf2702', 'https://products.wholefoodsmarket.com/product/odwalla-odwalla-vanilla-protein-beverage-e244ff', 'https://products.wholefoodsmarket.com/product/guru-organic-lite-energy-drink-6b07b4', 'https://products.wholefoodsmarket.com/product/orgain-organic-chocolate-plant-based-shake-4-pack-a96ece', 'https://products.wholefoodsmarket.com/product/gatorade-organic-strawberry-gatorade-b77776', 'https://products.wholefoodsmarket.com/product/odwalla-strawberry-protein-shake-2cd7c7', 'https://products.wholefoodsmarket.com/product/365-everyday-value-liquid-energy-orange-2-fl-oz-bb9103', 'https://products.wholefoodsmarket.com/product/hiball-energy-hiball-energy-pomegranate-acai-organic-energy-drink-94619b', 'https://products.wholefoodsmarket.com/product/gatorade-mixed-berry-thirst-quencher-dfd90f', 'https://products.wholefoodsmarket.com/product/vitamin-water-xxx-acai-blueberry-pomegranate-vitamin-water-d92583', 'https://products.wholefoodsmarket.com/product/forager-project-organic-nuts-and-chocolate-shake-b1ec3b', 'https://products.wholefoodsmarket.com/product/orgain-chocolate-kids-protein-organic-nutritional-shake-5924a4', 'https://products.wholefoodsmarket.com/product/evolve-ideal-vanilla-protein-shake-4-pk-6c2900', 'https://products.wholefoodsmarket.com/product/vitamin-water-acai-blueberry-pomegranate-vitamin-water-zero-bf880a', 'https://products.wholefoodsmarket.com/product/orgain-organic-creamy-chocolate-protein-shake-aa43ac', 'https://products.wholefoodsmarket.com/product/vitamin-water-power-c-dragonfruit-vitamin-water-c05ef5', 'https://products.wholefoodsmarket.com/product/orgain-creamy-chocolate-fudge-nutritional-protein-shake-cd9392', 'https://products.wholefoodsmarket.com/product/iconic-protein-chocolate-truffle-protein-drink-999afb', 'https://products.wholefoodsmarket.com/product/vitamin-water-power-c-dragonfruit-vitamin-water-zero-c09e40', 'https://products.wholefoodsmarket.com/product/runa-orange-passion-sparkling-guayusa-beverage-a4e749', 'https://products.wholefoodsmarket.com/product/orgain-orgain-iced-cage-mocha-organic-nutrition-complete-protein-shake-4-pk-53beff', 'https://products.wholefoodsmarket.com/product/lifeaid-immunity-aid-drink-08e0c2', 'https://products.wholefoodsmarket.com/product/guayaki-organic-sparkling-blackberry-mint-yerba-mate-6ed5cc', 'https://products.wholefoodsmarket.com/product/orgain-smooth-chocolate-organic-protein-shake-03fce5', 'https://products.wholefoodsmarket.com/product/orgain-organic-vanilla-bean-protein-shake-b8fb6c', 'https://products.wholefoodsmarket.com/product/iconic-protein-vanilla-bean-protein-drink-98b7bd', 'https://products.wholefoodsmarket.com/product/gts-blood-rose-wellness-water-57b372', 'https://products.wholefoodsmarket.com/product/urban-remedy-mint-cacao-chip-3d9223', 'https://products.wholefoodsmarket.com/product/vitamin-water-zero-go-go-mixed-berry-711dd4', 'https://products.wholefoodsmarket.com/product/iconic-protein-caf-au-lait-coffee-protein-drink-aa918f', 'https://products.wholefoodsmarket.com/product/orgain-orgain-strawberry-cream-organic-nutrition-complete-protein-shake-4-pk-a58218', 'https://products.wholefoodsmarket.com/product/matchabar-hustle-matcha-energy-drink-6d1e5e', 'https://products.wholefoodsmarket.com/product/ascent-watermelon-pre-workout-energy-drink-mix-9c4ba6', 'https://products.wholefoodsmarket.com/product/gts-organic-ginger-lemongrass-wellness-water-61129a', 'https://products.wholefoodsmarket.com/product/naked-double-berry-protein-smoothie-708dfb', 'https://products.wholefoodsmarket.com/product/guru-organic-energy-drink-5e8ed8', 'https://products.wholefoodsmarket.com/product/berri-fit-organic-mango-2aee3b', 'https://products.wholefoodsmarket.com/product/orgain-creamy-chocolate-fudge-protein-shake-86b16d', 'https://products.wholefoodsmarket.com/product/urban-remedy-hydration-workout-b3ff43', 'https://products.wholefoodsmarket.com/product/guru-organic-lite-energy-drink-afa58c', 'https://products.wholefoodsmarket.com/product/ascent-watermelon-pre-workout-energy-drink-mix-bf856a', 'https://products.wholefoodsmarket.com/product/liquid-iv-hydration-multiplier-powder-drink-mix-65dd62', 'https://products.wholefoodsmarket.com/product/cave-shake-organic-vanilla-coconut-milk-shake-72e318', 'https://products.wholefoodsmarket.com/product/cave-shake-organic-chocolate-coconut-milk-shake-5b39cf', 'https://products.wholefoodsmarket.com/product/ascent-raspberry-lemonade-pre-workout-energy-drink-mix-feb3dd', 'https://products.wholefoodsmarket.com/product/orgain-organic-iced-cafe-mocha-complete-protein-shake-af1a3f', 'https://products.wholefoodsmarket.com/product/rw-knudsen-lemon-recharge-sports-drink-67f886', 'https://products.wholefoodsmarket.com/product/r-w-knudsen-family-grape-recharge-91ac7a', 'https://products.wholefoodsmarket.com/product/just-chill-tropical-sparkling-calming-beverage-6a3f1d', 'https://products.wholefoodsmarket.com/product/just-chill-drink-rio-berry-a3c5c7', 'https://products.wholefoodsmarket.com/product/just-chill-ginger-calm-focus-d414d3', 'https://products.wholefoodsmarket.com/product/good-karma-foods-unsweetened-vanilla-flaxmilk-plus-protein-963ad1', 'https://products.wholefoodsmarket.com/product/rebbl-organic-dark-chocolate-protein-elixir-98004c', 'https://products.wholefoodsmarket.com/product/rebbl-organic-maca-mocha-elixir-d6e43c', 'https://products.wholefoodsmarket.com/product/lilys-chocolate-dark-chocolate-keto-baking-chips-a20e9f', 'https://products.wholefoodsmarket.com/product/365-everyday-value-365-everyday-value-dark-chocolate-baking-chunks-35584c', 'https://products.wholefoodsmarket.com/product/guittard-organic-74-chocolate-baking-wafers-a57a8d', 'https://products.wholefoodsmarket.com/product/navitas-organics-organic-cacao-sweet-nibs-045f56', 'https://products.wholefoodsmarket.com/product/uncle-eddies-vegan-cookies-uncle-eddies-vegan-cookies-oatmeal-chocolate-chip-cookies-971842', 'https://products.wholefoodsmarket.com/product/uncle-eddies-vegan-cookies-uncle-eddies-vegan-cookies-peanut-butter-chocolate-chip-cookies-971c4f', 'https://products.wholefoodsmarket.com/product/back-to-nature-honey-graham-sticks-6-pk-b2c152', 'https://products.wholefoodsmarket.com/product/annies-homegrown-organic-honey-bunny-grahams-ed1f08', 'https://products.wholefoodsmarket.com/product/uncle-eddies-vegan-cookies-vegan-chocolate-chip-with-walnut-cookies-9a999d', 'https://products.wholefoodsmarket.com/product/sweet-lorens-gluten-free-chocolate-chunk-place-bake-cookie-dough-e8242e', 'https://products.wholefoodsmarket.com/product/just-desserts-vegan-midnight-chocolate-cupcake-9a9d30', 'https://products.wholefoodsmarket.com/product/just-desserts-classic-carrot-cupcake-9a761d', 'https://products.wholefoodsmarket.com/product/uncle-eddies-vegan-cookies-vegan-oatmeal-raisin-cookies-0ed5c7', 'https://products.wholefoodsmarket.com/product/rawkin-raw-chocolate-superfood-macaroon-99313a', 'https://products.wholefoodsmarket.com/product/uncle-eddies-vegan-cookies-vegan-oatmeal-raisin-cookies-355499', 'https://products.wholefoodsmarket.com/product/4505-meats-classic-chili-chicharrones-838b35', 'https://products.wholefoodsmarket.com/product/epic-provisions-bbq-seasoning-pork-rinds-ce557d', 'https://products.wholefoodsmarket.com/product/epic-maple-glazed-smoked-salmon-bites-bd2aa4', 'https://products.wholefoodsmarket.com/product/country-archer-original-beef-jerky-707d59', 'https://products.wholefoodsmarket.com/product/epic-venison-jerky-8e2354', 'https://products.wholefoodsmarket.com/product/louisville-vegan-jerky-carolina-bbq-jerky-6c4926', 'https://products.wholefoodsmarket.com/product/the-new-primal-beef-thins-sea-salt-d31f3f', 'https://products.wholefoodsmarket.com/product/louisville-vegan-jerky-co-smoked-black-pepper-vegan-jerky-c91393', 'https://products.wholefoodsmarket.com/product/louisville-vegan-jerky-paulettes-maple-bacon-vegan-jerky-bd2e33', 'https://products.wholefoodsmarket.com/product/epic-sweet-savory-bison-bacon-bites-077a56', 'https://products.wholefoodsmarket.com/product/epic-hunters-recipe-venison-bites-b37e6a', 'https://products.wholefoodsmarket.com/product/epic-wagyu-beef-steak-snack-strip-9bd63d', 'https://products.wholefoodsmarket.com/product/epic-sweet-spicy-sriracha-beef-bites-bcb129', 'https://products.wholefoodsmarket.com/product/epic-sriracha-chicken-bar-8de741', 'https://products.wholefoodsmarket.com/product/the-new-primal-beef-jerky-sea-salt-pepper-edce35', 'https://products.wholefoodsmarket.com/product/the-new-primal-original-beef-stick-c600e4', 'https://products.wholefoodsmarket.com/product/country-archer-mango-habanero-beef-jerky-bcb72a', 'https://products.wholefoodsmarket.com/product/epic-coconut-maple-salmon-fillet-snack-strip-9c3bf7', 'https://products.wholefoodsmarket.com/product/epic-apple-bacon-beef-bar-c0d856', 'https://products.wholefoodsmarket.com/product/vermont-smoke-cure-bbq-beef-meat-stick-a11c52', 'https://products.wholefoodsmarket.com/product/homegrown-meats-grass-fed-beef-jerky-f10f40', 'https://products.wholefoodsmarket.com/product/epic-sesame-chicken-bar-6cdcde', 'https://products.wholefoodsmarket.com/product/epic-uncured-bacon-bites-973ae2', 'https://products.wholefoodsmarket.com/product/homegrown-meats-black-pepper-beef-jerky-a39607', 'https://products.wholefoodsmarket.com/product/perky-jerky-sea-salt-pepper-wagyu-beef-jerky-86d11b', 'https://products.wholefoodsmarket.com/product/perky-jerky-tasty-teriyaki-beef-jerky-083d8d', 'https://products.wholefoodsmarket.com/product/perky-jerky-original-beef-jerky-75a1fa', 'https://products.wholefoodsmarket.com/product/the-new-primal-beef-thins-bbq-d31d57', 'https://products.wholefoodsmarket.com/product/perky-jerky-sweet-snappy-turkey-jerky-cdca19', 'https://products.wholefoodsmarket.com/product/homegrown-meats-mesquite-bbq-beef-jerky-beb2dc', 'https://products.wholefoodsmarket.com/product/perky-jerky-chimichurri-wagyu-beef-jerky-af8f77', 'https://products.wholefoodsmarket.com/product/epic-provisions-cranberry-almond-turkey-bar-e05fa2', 'https://products.wholefoodsmarket.com/product/the-new-primal-beef-jerky-honey-cayenne-d319a2', 'https://products.wholefoodsmarket.com/product/homegrown-meats-beef-jerky-77e8f2', 'https://products.wholefoodsmarket.com/product/vermont-smoke-and-cure-jalapeno-lime-grass-fed-beef-stick-b55133', 'https://products.wholefoodsmarket.com/product/epic-100-grass-fed-beef-habaner-cherry-walnut-epic-bar-c7e6cc', 'https://products.wholefoodsmarket.com/product/epic-hickory-smoked-uncured-bacon-bits-6523a9', 'https://products.wholefoodsmarket.com/product/epic-wild-boar-with-uncured-bacon-bar-1092ea', 'https://products.wholefoodsmarket.com/product/epic-currant-and-mint-lamb-jerky-ce720a', 'https://products.wholefoodsmarket.com/product/dukes-hickory-peach-bbq-smoked-shorty-sausages-d88b4b', 'https://products.wholefoodsmarket.com/product/epic-maple-bacon-bits-718504', 'https://products.wholefoodsmarket.com/product/epic-chicken-egg-and-apple-bar-75404b', 'https://products.wholefoodsmarket.com/product/homegrown-meats-arrogant-bastard-beef-jerky-9e7bae', 'https://products.wholefoodsmarket.com/product/epic-bacon-pork-and-egg-bar-75332d', 'https://products.wholefoodsmarket.com/product/homegrown-meats-tangerine-express-ipa-beef-jerky-92235a', 'https://products.wholefoodsmarket.com/product/epic-sriracha-chicken-bar-12-pack-8df4b1', 'https://products.wholefoodsmarket.com/product/homegrown-meats-tangy-orange-teriyaki-beef-jerky-92b3f2', 'https://products.wholefoodsmarket.com/product/epic-apple-bacon-beef-bar-12-pack-6bd921', 'https://products.wholefoodsmarket.com/product/wild-joy-goods-banana-jerky-original-95595c', 'https://products.wholefoodsmarket.com/product/wild-joy-goods-banana-jerky-ginger-teriyaki-9565d3', 'https://products.wholefoodsmarket.com/product/wild-joy-goods-banana-jerky-chipotle-lime-956612', 'https://products.wholefoodsmarket.com/product/epic-apple-habanero-cherry-beef-bar-12-pack-6802d1', 'https://products.wholefoodsmarket.com/product/vermont-smoke-cure-bbq-seasoned-beef-sticks-c1a3cc', 'https://products.wholefoodsmarket.com/product/wrawp-coconut-jerky-bbq-smoke-house-97175e', 'https://products.wholefoodsmarket.com/product/wrawp-coconut-jerky-teriyaki-971845', 'https://products.wholefoodsmarket.com/product/wrawp-coconut-jerky-luscious-lime-971807', 'https://products.wholefoodsmarket.com/product/louisville-vegan-jerky-co-smoked-black-pepper-jerky-b0af56', 'https://products.wholefoodsmarket.com/product/hatch-chili-company-hatch-chili-company-mild-diced-green-chiles-b11019', 'https://products.wholefoodsmarket.com/product/wildbrine-wildbrine-red-beet-cabbage-sauerkraut-salad-9dd9dd', 'https://products.wholefoodsmarket.com/product/jeffs-naturals-sliced-tamed-jalapeno-peppers-c8fb98', 'https://products.wholefoodsmarket.com/product/ortiz-anchovies-in-olive-oil-1c3d81', 'https://products.wholefoodsmarket.com/product/365-everyday-value-organic-spaghetti-pasta-bce923', 'https://products.wholefoodsmarket.com/product/annies-homegrown-annies-homegrown-shells-white-cheddar-macaroni-cheese-e38c8a', 'https://products.wholefoodsmarket.com/product/kite-hill-spinach-and-ricotta-ravioli-052c16', 'https://products.wholefoodsmarket.com/product/annies-homegrown-shells-real-aged-cheddar-macaroni-cheese-0314e5', 'https://products.wholefoodsmarket.com/product/banza-chickpea-rotini-pasta-c8fd34', 'https://products.wholefoodsmarket.com/product/365-everyday-value-organic-fusilli-pasta-bcdd9f', 'https://products.wholefoodsmarket.com/product/daiya-foods-deluxe-cheddar-style-cheezy-mac-893b69', 'https://products.wholefoodsmarket.com/product/365-everyday-value-organic-penne-rigate-pasta-bcecf5', 'https://products.wholefoodsmarket.com/product/de-cecco-spaghetti-no-12-ca3463', 'https://products.wholefoodsmarket.com/product/annies-homegrown-annies-homegrown-macaroni-cheese-74cd14', 'https://products.wholefoodsmarket.com/product/andean-dream-andean-dream-organic-quinoa-spaghetti-dcf52a', 'https://products.wholefoodsmarket.com/product/365-everyday-value-organic-capellini-pasta-440331', 'https://products.wholefoodsmarket.com/product/jovial-jovial-brown-rice-pasta-farfalle-97cc39', 'https://products.wholefoodsmarket.com/product/jovial-organic-gluten-free-brown-rice-spaghetti-acbdba', 'https://products.wholefoodsmarket.com/product/365-everyday-value-organic-extra-wide-egg-noodles-445da0', 'https://products.wholefoodsmarket.com/product/annies-homegrown-classic-mild-cheddar-macaroni-cheese-0f1db7', 'https://products.wholefoodsmarket.com/product/seggiano-tagliatelle-organic-pasta-cebac4', 'https://products.wholefoodsmarket.com/product/de-cecco-fusilli-no-34-8f6e7d', 'https://products.wholefoodsmarket.com/product/annies-homegrown-organic-shells-real-aged-cheddar-macaroni-cheese-f45c64', 'https://products.wholefoodsmarket.com/product/365-everyday-value-organic-whole-wheat-penne-rigate-bcbf33', 'https://products.wholefoodsmarket.com/product/whole-foods-market-organic-orzo-0ef352', 'https://products.wholefoodsmarket.com/product/jovial-jovial-fusilli-b5bea5', 'https://products.wholefoodsmarket.com/product/whole-foods-market-organic-farfalle-0eea53', 'https://products.wholefoodsmarket.com/product/whole-foods-market-organic-rigatoni-0ef716', 'https://products.wholefoodsmarket.com/product/365-everyday-value-organic-shells-bcd9cd', 'https://products.wholefoodsmarket.com/product/whole-foods-market-organic-red-lentil-gluten-free-spaghetti-433df5', 'https://products.wholefoodsmarket.com/product/annies-homegrown-annies-homegrown-creamy-deluxe-shells-real-aged-cheddar-sauce-macaroni-dinner-74bbac', 'https://products.wholefoodsmarket.com/product/365-everyday-value-spaghetti-be11e0', 'https://products.wholefoodsmarket.com/product/365-everyday-value-365-everyday-value-organic-deluxe-shells-creamy-cheddar-sauce-da2d02', 'https://products.wholefoodsmarket.com/product/lotus-foods-organic-white-rice-pad-thai-noodles-6c9686', 'https://products.wholefoodsmarket.com/product/365-everyday-value-365-everyday-value-organic-lasagne-pasta-353063', 'https://products.wholefoodsmarket.com/product/whole-foods-market-organic-chickpea-gluten-free-shells-438281', 'https://products.wholefoodsmarket.com/product/banza-banza-shells-made-from-chickpeas-76a639', 'https://products.wholefoodsmarket.com/product/jovial-brown-rice-elbow-pasta-09c0dc', 'https://products.wholefoodsmarket.com/product/jovial-jovial-organic-gluten-free-brown-rice-penne-rigate-97c794', 'https://products.wholefoodsmarket.com/product/de-cecco-penne-rigate-no-41-bdcee0', 'https://products.wholefoodsmarket.com/product/365-everyday-value-organic-whole-wheat-spaghetti-bcc123', 'https://products.wholefoodsmarket.com/product/banza-cavatappi-made-from-chickpeas-c79546', 'https://products.wholefoodsmarket.com/product/365-everyday-value-organic-linguine-pasta-bcdbaf', 'https://products.wholefoodsmarket.com/product/de-cecco-thin-spaghetti-no-11-d117f3', 'https://products.wholefoodsmarket.com/product/365-everyday-value-organic-wide-egg-noodles-4257d6', 'https://products.wholefoodsmarket.com/product/banza-chickpea-spaghetti-pasta-af4064', 'https://products.wholefoodsmarket.com/product/de-cecco-cavatappi-no-87-7f41f6', 'https://products.wholefoodsmarket.com/product/seggiano-organic-spaghetti-pasta-b5f3ad', 'https://products.wholefoodsmarket.com/product/tolerant-foods-organic-red-lentil-penne-f315ef', 'https://products.wholefoodsmarket.com/product/jovial-jovial-100-organic-whole-grain-capellin-brown-rice-pasta-b5d231', 'https://products.wholefoodsmarket.com/product/de-cecco-de-cecco-elbows-pasta-cf91ed', 'https://products.wholefoodsmarket.com/product/annies-homegrown-annies-homegrown-organic-macaroni-cheese-74bf8c', 'https://products.wholefoodsmarket.com/product/lotus-foods-inc-organic-millet-brown-rice-ramen-4-pack-b1291d', 'https://products.wholefoodsmarket.com/product/annies-homegrown-annies-homegrown-organic-shells-white-cheddar-macaroni-cheese-74adee', 'https://products.wholefoodsmarket.com/product/eden-foods-eden-foods-100-buckwheat-soba-noodles-a454a2', 'https://products.wholefoodsmarket.com/product/de-cecco-de-cecco-angel-hair-pasta-a25c8d', 'https://products.wholefoodsmarket.com/product/seggiano-organic-linguini-pasta-6b19b2', 'https://products.wholefoodsmarket.com/product/de-cecco-de-cecco-linguine-pasta-8921e3', 'https://products.wholefoodsmarket.com/product/365-everyday-value-365-everyday-value-organic-deluxe-elbows-creamy-cheddar-sauce-c98e96', 'https://products.wholefoodsmarket.com/product/mikes-mighty-good-organic-chicken-ramen-cup-5aac06', 'https://products.wholefoodsmarket.com/product/seggiano-organic-toscani-pasta-b7b02a', 'https://products.wholefoodsmarket.com/product/de-cecco-farfalle-no-93-8cb01a', 'https://products.wholefoodsmarket.com/product/tangle-noodle-company-kelp-noodles-f2b7dc', 'https://products.wholefoodsmarket.com/product/dr-mcdougalls-right-foods-dr-mcdougalls-right-foods-vegan-ramen-chicken-flavor-8a1688', 'https://products.wholefoodsmarket.com/product/de-cecco-rigatoni-no-24-c37e5c', 'https://products.wholefoodsmarket.com/product/365-everyday-value-organic-fettuccine-pasta-bceb13', 'https://products.wholefoodsmarket.com/product/annies-homegrown-annies-homegrown-organic-grass-fed-shells-white-cheddar-macaroni-cheese-74a7f6', 'https://products.wholefoodsmarket.com/product/andean-dream-organic-quinoa-fusilli-b34352', 'https://products.wholefoodsmarket.com/product/365-everyday-value-lasagne-pasta-no-boil-4345df', 'https://products.wholefoodsmarket.com/product/365-everyday-value-organic-macaroni-and-cheese-9-oz-bc26fa', 'https://products.wholefoodsmarket.com/product/banza-elbows-made-from-chickpeas-d1203d', 'https://products.wholefoodsmarket.com/product/365-everyday-value-corn-rice-gluten-free-penne-rigate-cd3f30', 'https://products.wholefoodsmarket.com/product/365-everyday-value-penne-rigate-pasta-bcb3de', 'https://products.wholefoodsmarket.com/product/jovial-jovial-organic-gluten-free-traditional-egg-tagliatelle-b5c9b9', 'https://products.wholefoodsmarket.com/product/whole-foods-market-organic-mung-bean-gluten-free-fusilli-f02d93', 'https://products.wholefoodsmarket.com/product/365-everyday-value-corn-rice-gluten-free-spaghetti-cd4111', 'https://products.wholefoodsmarket.com/product/whole-foods-market-organic-orecchiette-rigate-0ef170', 'https://products.wholefoodsmarket.com/product/ancient-harvest-gluten-free-organic-supergrain-pasta-corn-quinoa-blend-penne-9124a6', 'https://products.wholefoodsmarket.com/product/annies-homegrown-organic-grass-fed-real-aged-cheddar-macaroni-cheese-ec1131', 'https://products.wholefoodsmarket.com/product/lotus-foods-inc-brown-pad-thai-rice-noodles-5db13b', 'https://products.wholefoodsmarket.com/product/raos-homemade-pasta-spaghetti-spaghetti-pasta-953bde', 'https://products.wholefoodsmarket.com/product/hodo-soy-sesame-yuba-noodles-0281da', 'https://products.wholefoodsmarket.com/product/daiya-foods-deluxe-alfredo-style-cheezy-mac-893d5d', 'https://products.wholefoodsmarket.com/product/365-everyday-value-elbows-pasta-bcd5fb', 'https://products.wholefoodsmarket.com/product/365-everyday-value-365-everyday-value-organic-macaroni-cheese-c9efc5', 'https://products.wholefoodsmarket.com/product/365-everyday-value-organic-family-sized-macaroni-cheese-4330d1', 'https://products.wholefoodsmarket.com/product/miracle-noodle-angel-hair-noodles-dd6dc1', 'https://products.wholefoodsmarket.com/product/annies-homegrown-bunny-pasta-with-yummy-cheese-macaroni-cheese-7c9b0f', 'https://products.wholefoodsmarket.com/product/annies-homegrown-organic-mac-bees-b0b2b7', 'https://products.wholefoodsmarket.com/product/whole-foods-market-organic-cavatelli-0edd52', 'https://products.wholefoodsmarket.com/product/whole-foods-market-organic-casarecce-0edb70', 'https://products.wholefoodsmarket.com/product/whole-foods-market-organic-ziti-0efc64', 'https://products.wholefoodsmarket.com/product/365-everyday-value-ravioli-ricotta-spinach-8-oz-bde272', 'https://products.wholefoodsmarket.com/product/oceans-halo-organic-ramen-noodle-6b676f', 'https://products.wholefoodsmarket.com/product/whole-foods-market-organic-pipe-rigate-0ef534', 'https://products.wholefoodsmarket.com/product/365-everyday-value-365-everyday-value-linguine-pasta-34c273', 'https://products.wholefoodsmarket.com/product/lotus-foods-inc-lotus-foods-inc-organic-jade-pearl-rice-ramen-4-pk-9b6e32', 'https://products.wholefoodsmarket.com/product/bertagni-fire-roasted-heirloom-tomato-mozzarella-and-basil-ravioli-316183', 'https://products.wholefoodsmarket.com/product/365-everyday-value-organic-butternut-squash-ravioli-bde095', 'https://products.wholefoodsmarket.com/product/tolerant-foods-organic-red-lentil-rotini-d3082c', 'https://products.wholefoodsmarket.com/product/de-cecco-de-cecco-fettucine-pasta-8923d4', 'https://products.wholefoodsmarket.com/product/house-foods-tofu-shirataki-spaghetti-d0be75', 'https://products.wholefoodsmarket.com/product/banza-chickpea-shells-mac-cheddar-cheese-cb2da8', 'https://products.wholefoodsmarket.com/product/mikes-mighty-good-organic-vegetable-ramen-cup-736fad', 'https://products.wholefoodsmarket.com/product/banza-chickpea-linguine-pasta-af3c00', 'https://products.wholefoodsmarket.com/product/hakubaku-hakubaku-organic-soba-buckwheat-noodles-b08bfc', 'https://products.wholefoodsmarket.com/product/banza-deluxe-elbows-cheddar-mac-cheese-89988d', 'https://products.wholefoodsmarket.com/product/annie-chuns-pad-thai-brown-rice-noodles-bbe5fb', 'https://products.wholefoodsmarket.com/product/raos-homemade-pasta-penne-penne-pasta-9528b3', 'https://products.wholefoodsmarket.com/product/de-cecco-oreccchiette-no-91-6c8f0f', 'https://products.wholefoodsmarket.com/product/tolerant-simply-legumes-organic-green-lentil-952d38', 'https://products.wholefoodsmarket.com/product/jovial-jovial-brown-rice-lasagna-noodles-b5cb6e', 'https://products.wholefoodsmarket.com/product/mikes-mighty-good-organic-spicy-beef-ramen-cup-6ed77b', 'https://products.wholefoodsmarket.com/product/bertagni-porcini-mushroom-and-truffle-mezzelune-filled-pasta-30d7e5', 'https://products.wholefoodsmarket.com/product/ancient-harvest-gluten-free-organic-supergrain-pasta-corn-quinoa-blend-elbows-9122b2', 'https://products.wholefoodsmarket.com/product/de-cecco-lasagne-no-1-dbc825', 'https://products.wholefoodsmarket.com/product/banza-chickpea-elbows-mac-white-cheddar-cheese-af23ff', 'https://products.wholefoodsmarket.com/product/tolerant-foods-organic-chickpea-rotini-5aa1f4', 'https://products.wholefoodsmarket.com/product/nona-lim-traditional-wavy-tokyo-ramen-noodle-694432', 'https://products.wholefoodsmarket.com/product/montebello-organic-penne-rigate-pasta-694280', 'https://products.wholefoodsmarket.com/product/annies-homegrown-annies-homegrown-gluten-free-rice-shells-creamy-white-cheddar-macaroni-cheese-e3888a', 'https://products.wholefoodsmarket.com/product/nuovo-pasta-tri-color-mozzarella-herb-tortelloni-95f1f1', 'https://products.wholefoodsmarket.com/product/sfoglini-whole-grain-reginetti-38544f', 'https://products.wholefoodsmarket.com/product/banza-chickpea-elbows-mac-cheddar-cheese-e3925c', 'https://products.wholefoodsmarket.com/product/house-foods-house-foods-tofu-shirataki-fettuccine-d979e6', 'https://products.wholefoodsmarket.com/product/rustichella-dabruzzo-rustichella-dabruzzo-spaghetti-84b737', 'https://products.wholefoodsmarket.com/product/hakubaku-hakubaku-organic-udon-wheat-noodles-940703', 'https://products.wholefoodsmarket.com/product/365-everyday-value-organic-mushroom-ravioli-bde454', 'https://products.wholefoodsmarket.com/product/seggiano-seggiano-organic-paccheri-pasta-c741c5', 'https://products.wholefoodsmarket.com/product/ancient-harvest-gluten-free-supergrain-spaghetti-pasta-9114b1', 'https://products.wholefoodsmarket.com/product/bertagni-butternut-squash-ravioli-f089e6', 'https://products.wholefoodsmarket.com/product/annies-homegrown-annies-homegrown-shells-white-cheddar-macaroni-cheese-family-size-e39629', 'https://products.wholefoodsmarket.com/product/mikes-mighty-good-organic-pork-tonkotsu-ramen-cup-6a4dbf', 'https://products.wholefoodsmarket.com/product/de-cecco-de-cecco-penne-lisce-pasta-892054', 'https://products.wholefoodsmarket.com/product/annies-homegrown-annies-homegrown-real-aged-cheddar-macaroni-cheese-microwaveable-cup-74c731', 'https://products.wholefoodsmarket.com/product/de-cecco-de-cecco-rotelle-pasta-89277c', 'https://products.wholefoodsmarket.com/product/nuovo-pasta-ravioli-crab-lobster-ff0b79', 'https://products.wholefoodsmarket.com/product/365-everyday-value-365-everyday-value-organic-shells-cheese-34919a', 'https://products.wholefoodsmarket.com/product/sfoglini-organic-trumpets-pasta-724d2f', 'https://products.wholefoodsmarket.com/product/lotus-foods-inc-millet-brown-rice-ramen-with-miso-soup-c0063c', 'https://products.wholefoodsmarket.com/product/rice-select-pearl-couscous-with-turmeric-79c281', 'https://products.wholefoodsmarket.com/product/annies-homegrown-organic-aged-cheddar-macaroni-and-cheese-2-pack-e362b9', 'https://products.wholefoodsmarket.com/product/uptons-naturals-entree-mac-cheesy-6d4465', 'https://products.wholefoodsmarket.com/product/annies-homegrown-annies-homegrown-creamy-deluxe-gluten-free-pasta-extra-cheesy-cheddar-sauce-74b605', 'https://products.wholefoodsmarket.com/product/raos-elbow-macaroni-746149', 'https://products.wholefoodsmarket.com/product/annie-chuns-udon-noodles-soup-bowl-d2811b', 'https://products.wholefoodsmarket.com/product/dr-mcdougalls-right-foods-dr-mcdougalls-right-foods-vegan-pad-thai-noodle-soup-8a1115', 'https://products.wholefoodsmarket.com/product/severino-pasta-kids-cuts-abc-123-pasta-9885da', 'https://products.wholefoodsmarket.com/product/modern-table-lentil-penne-pasta-dc2d3f', 'https://products.wholefoodsmarket.com/product/daiya-foods-white-cheddar-style-veggie-deluxe-cheezy-mac-ceb401', 'https://products.wholefoodsmarket.com/product/andean-dream-andean-dream-organic-quinoa-macaroni-74d625', 'https://products.wholefoodsmarket.com/product/365-everyday-value-365-everyday-value-shells-cheese-71d931', 'https://products.wholefoodsmarket.com/product/severino-pasta-severino-pasta-kids-cuts-dinosaur-pasta-8830ff', 'https://products.wholefoodsmarket.com/product/mikes-mighty-good-organic-fried-garlic-chicken-ramen-5fc567', 'https://products.wholefoodsmarket.com/product/lotus-foods-inc-jade-pearl-rice-ramen-with-miso-soup-b4f232', 'https://products.wholefoodsmarket.com/product/miracle-noodle-shirataki-noodle-pho-88a85f', 'https://products.wholefoodsmarket.com/product/severino-pasta-wagon-wheel-pasta-0d66de', 'https://products.wholefoodsmarket.com/product/severino-pasta-severino-pasta-radiatori-27523f', 'https://products.wholefoodsmarket.com/product/annies-homegrown-annies-homegrown-macaroni-cheese-family-size-74e4c8', 'https://products.wholefoodsmarket.com/product/severino-bronze-rustic-rigatoni-a89827', 'https://products.wholefoodsmarket.com/product/de-cecco-pasta-fusilli-spinach-pasta-a9ff52', 'https://products.wholefoodsmarket.com/product/oceans-halo-organic-ramen-noodle-bowl-6b78a1', 'https://products.wholefoodsmarket.com/product/annies-homegrown-organic-macaroni-cheese-eefbee', 'https://products.wholefoodsmarket.com/product/oceans-halo-organic-rice-noodle-6cd8ef', 'https://products.wholefoodsmarket.com/product/ancient-harvest-lentil-spaghetti-dc713a', 'https://products.wholefoodsmarket.com/product/andean-dream-organic-pasta-elbows-745f6e', 'https://products.wholefoodsmarket.com/product/sun-noodle-kaedama-ramen-noodles-da349c', 'https://products.wholefoodsmarket.com/product/montebello-organic-fusilli-acbd42', 'https://products.wholefoodsmarket.com/product/lotus-foods-tom-yum-ramen-noodle-soup-cup-94fbf7', 'https://products.wholefoodsmarket.com/product/lotus-foods-organic-moringa-pad-thai-rice-noodle-6c1a8d', 'https://products.wholefoodsmarket.com/product/de-cecco-pasta-shells-no-52-pasta-71d3a3', 'https://products.wholefoodsmarket.com/product/explore-cuisine-organic-green-lentil-lasagne-ad5c88', 'https://products.wholefoodsmarket.com/product/annie-chuns-vietnamese-pho-soup-bowl-6c917f', 'https://products.wholefoodsmarket.com/product/lotus-foods-red-miso-rice-ramen-noodle-soup-cup-68a5ea', 'https://products.wholefoodsmarket.com/product/maninis-maninis-gluten-free-rigatoni-pasta-bd3e04', 'https://products.wholefoodsmarket.com/product/explore-cuisine-explore-cuisine-organic-edamame-mung-bean-fettuccine-d17426', 'https://products.wholefoodsmarket.com/product/365-everyday-value-organic-eggplant-ravioli-436907', 'https://products.wholefoodsmarket.com/product/miracle-noodle-noodles-rice-c441d5', 'https://products.wholefoodsmarket.com/product/de-cecco-pasta-rigata-shell-pasta-c37d6b', 'https://products.wholefoodsmarket.com/product/bertagni-goat-cheese-and-roasted-tomato-mezzelune-d5ed1c', 'https://products.wholefoodsmarket.com/product/oceans-halo-organic-pho-noodle-bowl-69dea8', 'https://products.wholefoodsmarket.com/product/annies-homegrown-annies-homegrown-less-sodium-macaroni-cheese-74e751', 'https://products.wholefoodsmarket.com/product/de-cecco-organic-spaghetti-no-12-f4875e', 'https://products.wholefoodsmarket.com/product/modern-table-veggie-rotini-protein-pasta-748fed', 'https://products.wholefoodsmarket.com/product/lotus-foods-masala-curry-rice-ramen-noodle-soup-cup-69dd97', 'https://products.wholefoodsmarket.com/product/miracle-noodle-ready-to-eat-thai-tom-yum-soup-c2b8c3', 'https://products.wholefoodsmarket.com/product/nona-lim-nona-lim-laksa-noodles-c4451b', 'https://products.wholefoodsmarket.com/product/mikes-mighty-good-organic-kimchi-ramen-noodle-soup-pillow-pack-645401', 'https://products.wholefoodsmarket.com/product/365-by-wfm-potato-gnocchi-7d8bbf', 'https://products.wholefoodsmarket.com/product/annies-homegrown-mac-and-cheese-white-cheddar-2pk-6654ca', 'https://products.wholefoodsmarket.com/product/sfoglini-fusilli-beet-pasta-8f79b7', 'https://products.wholefoodsmarket.com/product/rising-moon-rising-moon-organic-spinach-cheese-ravioli-232518', 'https://products.wholefoodsmarket.com/product/mikes-mighty-good-spicy-pork-tonkotsu-ramen-8d2c59', 'https://products.wholefoodsmarket.com/product/house-foods-house-foods-tofu-shirataki-angel-hair-b38785', 'https://products.wholefoodsmarket.com/product/rustichella-egg-pappardelle-6d6035', 'https://products.wholefoodsmarket.com/product/house-foods-house-foods-shirataki-white-yam-noodle-substitute-b38053', 'https://products.wholefoodsmarket.com/product/nona-lim-pad-see-ew-noodles-778acc', 'https://products.wholefoodsmarket.com/product/nuovo-pasta-4-cheese-tortellini-da4af1', 'https://products.wholefoodsmarket.com/product/taste-republic-spinach-fettuccine-8d7d62', 'https://products.wholefoodsmarket.com/product/koyo-low-sodium-asian-vegetable-ramen-bb5042', 'https://products.wholefoodsmarket.com/product/rustichella-linguine-6eab06', 'https://products.wholefoodsmarket.com/product/montebello-organic-tarchiette-b7b21e', 'https://products.wholefoodsmarket.com/product/food-for-life-ezekiel-4-9-cinnamon-raisin-english-muffin-a65ab3', 'https://products.wholefoodsmarket.com/product/food-for-life-gluten-free-english-muffins-ac29f2', 'https://products.wholefoodsmarket.com/product/udis-gluten-free-soft-chewy-plain-bagels-c9bb91', 'https://products.wholefoodsmarket.com/product/food-for-life-food-for-life-gluten-free-multi-seed-english-muffins-a7f173', 'https://products.wholefoodsmarket.com/product/engine-2-engine-2-100-whole-wheat-stone-baked-pizza-crusts-2-pk-34e7ab', 'https://products.wholefoodsmarket.com/product/udis-gluten-free-soft-chewy-everything-bagels-8b6c03', 'https://products.wholefoodsmarket.com/product/western-bagel-plain-bagels-7c2a20', 'https://products.wholefoodsmarket.com/product/mikeys-muffins-original-68100d', 'https://products.wholefoodsmarket.com/product/udis-gluten-free-cinnamon-raisin-bagels-caef87', 'https://products.wholefoodsmarket.com/product/western-bagel-everything-bagels-a5fc06', 'https://products.wholefoodsmarket.com/product/mikeys-cinnamon-raisin-english-muffins-dcfb85', 'https://products.wholefoodsmarket.com/product/western-bagel-100-whole-wheat-bagels-d9d614', 'https://products.wholefoodsmarket.com/product/against-the-grain-vermont-country-rolls-6c0777', 'https://products.wholefoodsmarket.com/product/western-bagel-blueberry-bagel-a616b2', 'https://products.wholefoodsmarket.com/product/mikeys-original-english-muffins-76ee06', 'https://products.wholefoodsmarket.com/product/ozery-bakery-ozery-bakery-muesli-morning-rounds-77892e', 'https://products.wholefoodsmarket.com/product/ozery-bakery-apple-cinnamon-morning-rounds-ddf93f', 'https://products.wholefoodsmarket.com/product/glutino-multigrain-english-muffins-3c1ca7', 'https://products.wholefoodsmarket.com/product/applegate-naturals-natural-uncured-genoa-salami-c12c00', 'https://products.wholefoodsmarket.com/product/applegate-organics-organic-uncured-black-forest-ham-8d547a', 'https://products.wholefoodsmarket.com/product/naturalissima-uncured-panino-hard-salami-0ad63b', 'https://products.wholefoodsmarket.com/product/wellshire-farms-wellshire-farms-colamecos-primo-spanish-deli-selection-salame-9c62a5', 'https://products.wholefoodsmarket.com/product/creminelli-varzi-uncured-italian-salami-d3f89b', 'https://products.wholefoodsmarket.com/product/naturalissima-naturalissima-uncured-panino-pepperoni-e154da', 'https://products.wholefoodsmarket.com/product/naturalissima-naturalissima-jamon-serrano-dry-cured-ham-c32c0f', 'https://products.wholefoodsmarket.com/product/naturalissima-naturalissima-uncured-hard-salami-c32a7f', 'https://products.wholefoodsmarket.com/product/gusto-gusto-calabrese-sliced-spicy-salame-933f70', 'https://products.wholefoodsmarket.com/product/naturalissima-naturalissima-uncured-genoa-salami-e15cbe', 'https://products.wholefoodsmarket.com/product/wellshire-farms-wellshire-farms-colamecos-black-pepper-salame-chub-9c7f82', 'https://products.wholefoodsmarket.com/product/colamecos-colamecos-original-uncured-salami-9ca9eb', 'https://products.wholefoodsmarket.com/product/creminelli-creminelli-calabrese-uncured-italian-salami-9fb4f3', 'https://products.wholefoodsmarket.com/product/naturalissima-naturalissima-uncured-milano-brand-salami-fcd371', 'https://products.wholefoodsmarket.com/product/naturalissima-naturalissima-uncured-italian-dry-salami-c3548c', 'https://products.wholefoodsmarket.com/product/naturalissima-naturalissima-uncured-abruzzese-salami-fce3f1', 'https://products.wholefoodsmarket.com/product/creminelli-creminelli-mild-spicy-italian-salami-9fb362', 'https://products.wholefoodsmarket.com/product/diestel-family-ranch-nongmo-presliced-turkey-breast-honey-roasted-919197', 'https://products.wholefoodsmarket.com/product/diestel-family-ranch-nongmo-prescliced-turkey-breast-naturally-smoked-943f50', 'https://products.wholefoodsmarket.com/product/creminelli-creminelli-varzi-1c351f', 'https://products.wholefoodsmarket.com/product/naturalissima-naturalissima-uncured-italian-dry-salami-ed1f69', 'https://products.wholefoodsmarket.com/product/beyond-meat-plant-based-original-bratwurst-7c9960', 'https://products.wholefoodsmarket.com/product/applegate-organics-the-great-organic-uncured-beef-hot-dog-e3c4e6', 'https://products.wholefoodsmarket.com/product/wellshire-farms-wellshire-farms-sugar-free-dry-rubbed-paleo-bacon-d5cce1', 'https://products.wholefoodsmarket.com/product/wellshire-farms-wellshire-thick-sliced-dry-rubbed-uncured-bacon-d60371', 'https://products.wholefoodsmarket.com/product/applegate-organics-organic-uncured-turkey-bacon-c13985', 'https://products.wholefoodsmarket.com/product/wellshire-farms-wellshire-dry-rubbed-organic-pork-bacon-d5710c', 'https://products.wholefoodsmarket.com/product/applegate-organics-organic-chicken-apple-sausage-04f090', 'https://products.wholefoodsmarket.com/product/applegate-organics-organic-no-sugar-uncured-bacon-681e76', 'https://products.wholefoodsmarket.com/product/natures-rancher-uncured-hickory-smoked-bacon-d2c29f', 'https://products.wholefoodsmarket.com/product/wellshire-farms-smoked-fresh-turkey-kielbasa-03f1a2', 'https://products.wholefoodsmarket.com/product/applegate-naturals-natural-uncured-sunday-bacon-fcc2d7', 'https://products.wholefoodsmarket.com/product/fork-in-the-road-foods-little-goodies-with-pasture-raised-beef-9b33e0', 'https://products.wholefoodsmarket.com/product/gusto-gusto-toscano-fennel-pollen-salame-9359fa', 'https://products.wholefoodsmarket.com/product/naturalissima-naturalissima-uncured-hard-salami-a23bff', 'https://products.wholefoodsmarket.com/product/creminelli-sopressata-hand-crafted-uncured-italian-salami-ca0ba4', 'https://products.wholefoodsmarket.com/product/naturalissima-naturalissima-uncured-pepperoni-c3556c', 'https://products.wholefoodsmarket.com/product/gusto-gusto-classically-american-pepperoni-b07599', 'https://products.wholefoodsmarket.com/product/creminelli-fennel-salami-8c66fd', 'https://products.wholefoodsmarket.com/product/creminelli-creminelli-casalingo-uncured-italian-salami-e0de08', 'https://products.wholefoodsmarket.com/product/creminelli-prosciutto-aged-mozzarella-grissini-fd8376', 'https://products.wholefoodsmarket.com/product/family-ranch-organics-organic-bratwurst-sausage-c85735', 'https://products.wholefoodsmarket.com/product/whole-foods-market-boneless-beef-top-loin-steak-ny-strip-steak-1fe78e', 'https://products.wholefoodsmarket.com/product/beef-ribeye-steak-c25b55', 'https://products.wholefoodsmarket.com/product/pasture-raised-boneless-beef-ny-strip-steak-c8bd03', 'https://products.wholefoodsmarket.com/product/beef-tenderloin-steak-03daa3', 'https://products.wholefoodsmarket.com/product/meat-bone-in-beef-ribeye-steak-7ac5f9', 'https://products.wholefoodsmarket.com/product/beef-flank-steak-c25678', 'https://products.wholefoodsmarket.com/product/boneless-beef-ribeye-steak-d443cc', 'https://products.wholefoodsmarket.com/product/dubreton-organic-ground-pork-ade211', 'https://products.wholefoodsmarket.com/product/meat-bone-in-beef-short-ribs-7b3ab5', 'https://products.wholefoodsmarket.com/product/country-naturals-ground-beef-85-lean-15-fat-6733bd', 'https://products.wholefoodsmarket.com/product/eel-river-organic-grass-fed-ground-beef-ad609d', 'https://products.wholefoodsmarket.com/product/bone-in-pork-loin-chop-e682ae', 'https://products.wholefoodsmarket.com/product/organic-ground-beef-93-lean-7-fat-09e037', 'https://products.wholefoodsmarket.com/product/hickory-nut-gap-organic-ground-beef-90-lean-ae08b1', 'https://products.wholefoodsmarket.com/product/meat-beef-sirloin-flap-043e1a', 'https://products.wholefoodsmarket.com/product/beef-chuck-stew-meat-77976a', 'https://products.wholefoodsmarket.com/product/boneless-pork-shoulder-butt-roast-e2b96e', 'https://products.wholefoodsmarket.com/product/meat-flanken-beef-chuck-short-ribs-dd299c', 'https://products.wholefoodsmarket.com/product/beef-tri-tip-roast-683613', 'https://products.wholefoodsmarket.com/product/meat-bone-in-beef-ribeye-steak-05fb3b', 'https://products.wholefoodsmarket.com/product/ground-beef-80-lean-20-fat-2f43c6', 'https://products.wholefoodsmarket.com/product/st-louis-style-pork-ribs-891328', 'https://products.wholefoodsmarket.com/product/bone-in-pork-loin-chop-6b5b0a', 'https://products.wholefoodsmarket.com/product/organic-beef-stew-meat-04db48', 'https://products.wholefoodsmarket.com/product/country-natural-beef-85-ground-beef-1a2615', 'https://products.wholefoodsmarket.com/product/atkins-ranch-ground-lamb-f11c15', 'https://products.wholefoodsmarket.com/product/colamecos-colamecos-dried-uncured-chorizo-7-oz-9cab32', 'https://products.wholefoodsmarket.com/product/gusto-smoked-paprika-chorizo-c909a8', 'https://products.wholefoodsmarket.com/product/marys-free-range-organic-air-chilled-chicken-livers-8dbae1', 'https://products.wholefoodsmarket.com/product/diestel-family-ranch-nongmo-presliced-turkey-breast-oven-roasted-9269d2', 'https://products.wholefoodsmarket.com/product/diestel-family-ranch-nongmo-presliced-roast-beef-95de72', 'https://products.wholefoodsmarket.com/product/diestel-family-ranch-nomgmo-presliced-uncured-beef-pastrami-seasoned-95dd90', 'https://products.wholefoodsmarket.com/product/creminelli-fine-meats-salami-minis-whiskey-mini-salame-whiskey-2-6-oz-12ct-979ee9', 'https://products.wholefoodsmarket.com/product/la-quercia-nduja-spread-67a595']\n"
     ]
    }
   ],
   "source": [
    "# 查找重复项\n",
    "import collections\n",
    "print([item for item, count in collections.Counter(product_links).items() if count > 1])"
   ]
  },
  {
   "cell_type": "markdown",
   "metadata": {},
   "source": [
    "Find you may also like"
   ]
  },
  {
   "cell_type": "code",
   "execution_count": null,
   "metadata": {},
   "outputs": [],
   "source": [
    "starting_link = product_links[545]\n",
    "r = requests.get(starting_link)"
   ]
  },
  {
   "cell_type": "code",
   "execution_count": 23,
   "metadata": {},
   "outputs": [],
   "source": [
    "def get_what_you_may_like(starting_link):\n",
    "    browser = webdriver.Chrome()\n",
    "    browser.get(starting_link)\n",
    "    source = browser.page_source\n",
    "    browser.close()\n",
    "    soup = bs4.BeautifulSoup(source)\n",
    "    soups = soup.find_all(\"a\", class_=\"ProductCard-Root--3g5WI\")\n",
    "    domain = \"https://products.wholefoodsmarket.com\"\n",
    "    links = [domain + soup.get(\"href\") for soup in soups]\n",
    "    return links"
   ]
  },
  {
   "cell_type": "code",
   "execution_count": 22,
   "metadata": {},
   "outputs": [],
   "source": [
    "product_link = set(product_links)"
   ]
  },
  {
   "cell_type": "code",
   "execution_count": null,
   "metadata": {},
   "outputs": [],
   "source": [
    "starting_link = \"https://products.wholefoodsmarket.com/product/califia-farms-super-berry-probiotic-yogurt-drink-6e4114\"\n",
    "browser = webdriver.Chrome()\n",
    "browser.get(starting_link)\n",
    "source = browser.page_source\n",
    "soup = bs4.BeautifulSoup(source)\n",
    "soups = soup.find_all(\"a\", class_=\"ProductCard-Root--3g5WI\")"
   ]
  },
  {
   "cell_type": "code",
   "execution_count": null,
   "metadata": {},
   "outputs": [],
   "source": [
    "for soup in soups:\n",
    "    print(soup.get(\"href\"))"
   ]
  }
 ],
 "metadata": {
  "kernelspec": {
   "display_name": "Python 3",
   "language": "python",
   "name": "python3"
  },
  "language_info": {
   "codemirror_mode": {
    "name": "ipython",
    "version": 3
   },
   "file_extension": ".py",
   "mimetype": "text/x-python",
   "name": "python",
   "nbconvert_exporter": "python",
   "pygments_lexer": "ipython3",
   "version": "3.7.4"
  }
 },
 "nbformat": 4,
 "nbformat_minor": 2
}
